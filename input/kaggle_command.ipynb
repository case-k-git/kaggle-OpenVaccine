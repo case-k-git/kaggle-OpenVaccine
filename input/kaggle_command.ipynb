{
 "cells": [
  {
   "cell_type": "code",
   "execution_count": 2,
   "metadata": {},
   "outputs": [],
   "source": [
    " import os"
   ]
  },
  {
   "cell_type": "code",
   "execution_count": 3,
   "metadata": {},
   "outputs": [],
   "source": [
    "os.environ['KAGGLE_USERNAME'] =\"\"\n",
    "os.environ['KAGGLE_KEY'] = \"\""
   ]
  },
  {
   "cell_type": "code",
   "execution_count": 3,
   "metadata": {},
   "outputs": [
    {
     "name": "stdout",
     "output_type": "stream",
     "text": [
      "Downloading lyft-motion-prediction-autonomous-vehicles.zip to /home/input\n",
      "100%|██████████████████████████████████████▉| 18.3G/18.3G [02:57<00:00, 120MB/s]\n",
      "100%|███████████████████████████████████████| 18.3G/18.3G [02:57<00:00, 111MB/s]\n"
     ]
    }
   ],
   "source": [
    "!kaggle competitions download -c stanford-covid-vaccine\n",
    "# https://www.kaggle.com/c/stanford-covid-vaccine/data"
   ]
  },
  {
   "cell_type": "code",
   "execution_count": 1,
   "metadata": {},
   "outputs": [],
   "source": [
    "#!unzip lyft-motion-prediction-autonomous-vehicles.zip"
   ]
  },
  {
   "cell_type": "code",
   "execution_count": null,
   "metadata": {},
   "outputs": [],
   "source": []
  }
 ],
 "metadata": {
  "kernelspec": {
   "display_name": "Python 3",
   "language": "python",
   "name": "python3"
  },
  "language_info": {
   "codemirror_mode": {
    "name": "ipython",
    "version": 3
   },
   "file_extension": ".py",
   "mimetype": "text/x-python",
   "name": "python",
   "nbconvert_exporter": "python",
   "pygments_lexer": "ipython3",
   "version": "3.7.6"
  }
 },
 "nbformat": 4,
 "nbformat_minor": 4
}
